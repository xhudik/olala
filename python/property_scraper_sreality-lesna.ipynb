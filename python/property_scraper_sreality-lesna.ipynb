{
 "cells": [
  {
   "cell_type": "code",
   "execution_count": 1,
   "metadata": {},
   "outputs": [],
   "source": [
    "from selenium import webdriver\n",
    "from selenium.webdriver.common.keys import Keys\n",
    "import pandas as pd\n",
    "import numpy as np\n",
    "import re\n",
    "import time\n",
    "\n"
   ]
  },
  {
   "cell_type": "code",
   "execution_count": 4,
   "metadata": {},
   "outputs": [],
   "source": [
    "def highlight(element, seconds = 5):\n",
    "    \"\"\"Highlights (blinks) a Selenium Webdriver element\"\"\"\n",
    "    driver = element._parent\n",
    "    def apply_style(s):\n",
    "        driver.execute_script(\"arguments[0].setAttribute('style', arguments[1]);\",element, s)\n",
    "        \n",
    "    original_style = element.get_attribute('style')\n",
    "    apply_style(\"background: yellow; border: 5px solid red;\")\n",
    "    time.sleep(seconds)\n",
    "    apply_style(original_style)\n",
    "    \n",
    "\n",
    "driver = webdriver.Firefox()"
   ]
  },
  {
   "cell_type": "code",
   "execution_count": 5,
   "metadata": {},
   "outputs": [],
   "source": [
    "searchURL = 'https://www.sreality.cz/hledani/prodej/byty/jihomoravsky-kraj?region=m%C4%9Bstsk%C3%A1%20%C4%8D%C3%A1st%20Lesn%C3%A1&region-id=14643&region-typ=ward'\n",
    "#searchURL = \"https://www.sreality.cz/hledani/prodej/byty/blansko,brno-venkov,brno?plocha-od=150&plocha-do=10000000000\"\n",
    "\n",
    "driver.get(searchURL)\n",
    "#in program - we need wait 10-15 seconds to fully load the page (time.sleep(10))"
   ]
  },
  {
   "cell_type": "code",
   "execution_count": 12,
   "metadata": {},
   "outputs": [
    {
     "data": {
      "text/plain": [
       "22"
      ]
     },
     "execution_count": 12,
     "metadata": {},
     "output_type": "execute_result"
    }
   ],
   "source": [
    "#number of found offers: \"Nalezeno 26 inzerátů\"\n",
    "#/html/body/div[2]/div[1]/div[2]/div[2]/div[4]/div/div/div/div/div[3]/div/div[23]/p/span[2]\n",
    "noffers=int(driver.find_element_by_xpath(\"//div[2]/div[2]/div[4]/div/div/div/div/div[3]/div/div[22]/p/span[2]\").text)\n",
    "noffers\n",
    "\n",
    "                               "
   ]
  },
  {
   "cell_type": "code",
   "execution_count": 13,
   "metadata": {},
   "outputs": [],
   "source": [
    "# new dataframe\n",
    "flats = pd.DataFrame(columns=['Title', 'Price', 'Link', 'MyRate', 'State', 'Comment'])\n",
    "\n",
    "#read csv\n",
    "#flats = pd.read_csv('sreality_2019-01-19.csv', index_col =0)\n",
    "#flats.head()"
   ]
  },
  {
   "cell_type": "code",
   "execution_count": 14,
   "metadata": {},
   "outputs": [
    {
     "data": {
      "text/plain": [
       "2"
      ]
     },
     "execution_count": 14,
     "metadata": {},
     "output_type": "execute_result"
    }
   ],
   "source": [
    "pages = noffers // 20 + (noffers % 20 >0)\n",
    "#note // is integer division (no remainders)\n",
    "#note % is modulo\n",
    "\n",
    "\n",
    "pages"
   ]
  },
  {
   "cell_type": "code",
   "execution_count": 15,
   "metadata": {},
   "outputs": [
    {
     "name": "stdout",
     "output_type": "stream",
     "text": [
      "Page offers:21\n",
      "1;0  ;;;Ul Merhautova, Brno - Brno-sever  1+1 45 m²2 660 000 Kč. https://www.sreality.cz/detail/prodej/byt/1+1/brno-brno-sever-ulice-merhautova/2056232540 - New\n",
      "1;1  ;;;Ul Majdalenky, Brno - část obce Lesná  6 pokojů a více 180 m²9 069 000 Kč. https://www.sreality.cz/detail/prodej/byt/6-a-vice/brno-cast-obce-lesna-ulice-majdalenky/321560156 - New\n",
      "1;2  ;;;Ul Fillova, Brno - část obce Lesná  3+1 90 m²5 190 000 Kč. https://www.sreality.cz/detail/prodej/byt/3+1/brno-cast-obce-lesna-ulice-fillova/2276064860 - New\n",
      "1;3  ;;;Ul Šrámkova, Brno - část obce Lesná  2+1 55 m²3 209 000 Kč. https://www.sreality.cz/detail/prodej/byt/2+1/brno-cast-obce-lesna-ulice-sramkova/2247601756 - New\n",
      "1;4  ;;;Ul Nejedlého, Brno - část obce Lesná  3+1 64 m²3 500 000 Kč. https://www.sreality.cz/detail/prodej/byt/3+1/brno-cast-obce-lesna-ulice-nejedleho/3308802396 - New\n",
      "1;5  ;;;Ul Dusíkova, Brno - část obce Lesná  1+kk 46 m²2 600 000 Kč. https://www.sreality.cz/detail/prodej/byt/1+kk/brno-cast-obce-lesna-ulice-dusikova/2639920732 - New\n",
      "1;6  ;;;Brno - část obce Lesná, okres Brno-město  3+1 62 m²3 300 000 Kč. https://www.sreality.cz/detail/prodej/byt/3+1/brno-cast-obce-lesna-/568000092 - New\n",
      "1;7  ;;;Ul Arbesova, Brno - část obce Lesná  2+1 56 m²3 090 000 Kč. https://www.sreality.cz/detail/prodej/byt/2+1/brno-cast-obce-lesna-ulice-arbesova/852164188 - New\n",
      "1;8  ;;;Ul Nejedlého, Brno - část obce Lesná  2+1 53 m²3 400 000 Kč. https://www.sreality.cz/detail/prodej/byt/2+1/brno-cast-obce-lesna-ulice-nejedleho/2828242524 - New\n",
      "1;9  ;;;Ul Fillova, Brno - část obce Lesná  2+1 56 m²3 400 000 Kč. https://www.sreality.cz/detail/prodej/byt/2+1/brno-cast-obce-lesna-ulice-fillova/3559652956 - New\n",
      "1;10  ;;;Ul Majdalenky, Brno - část obce Lesná  3+1 160 m²8 500 000 Kč. https://www.sreality.cz/detail/prodej/byt/3+1/brno-cast-obce-lesna-ulice-majdalenky/4086038108 - New\n",
      "1;11  ;;;Ul Majdalenky, Brno - část obce Lesná  4+kk 120 m²7 190 000 Kč. https://www.sreality.cz/detail/prodej/byt/4+kk/brno-cast-obce-lesna-ulice-majdalenky/718114396 - New\n",
      "1;12  ;;;Ul Halasovo náměstí, Brno - část obce Lesná  1+1 31 m²2 174 025 Kč. https://www.sreality.cz/detail/prodej/byt/1+1/brno-cast-obce-lesna-ulice-halasovo-namesti/2299825756 - New\n",
      "1;13  ;;;Ul Nejedlého, Brno - část obce Lesná  2+kk 51 m²3 490 000 Kč. https://www.sreality.cz/detail/prodej/byt/2+kk/brno-cast-obce-lesna-ulice-nejedleho/2649923164 - New\n",
      "1;14  ;;;Ul Nejedlého, Brno - část obce Lesná  6 pokojů a více 166 m²7 600 000 Kč. https://www.sreality.cz/detail/prodej/byt/6-a-vice/brno-cast-obce-lesna-ulice-nejedleho/1300676188 - New\n",
      "1;15  ;;;Brno - část obce Lesná, okres Brno-město  2+1 54 m²1 970 000 Kč. https://www.sreality.cz/detail/prodej/byt/2+1/brno-cast-obce-lesna-/1407618652 - New\n",
      "1;16  ;;;Ul Jurkovičova, Brno - část obce Lesná  2+1 56 m²3 049 000 Kč. https://www.sreality.cz/detail/prodej/byt/2+1/brno-cast-obce-lesna-ulice-jurkovicova/1690734172 - New\n",
      "1;17  ;;;Ul Milénova, Brno - část obce Lesná  2+1 60 m²2 900 000 Kč. https://www.sreality.cz/detail/prodej/byt/2+1/brno-cast-obce-lesna-ulice-milenova/4205809244 - New\n",
      "1;18  ;;;Ul Halasovo náměstí, Brno - část obce Lesná  1+kk 23 m²2 300 000 Kč. https://www.sreality.cz/detail/prodej/byt/1+kk/brno-cast-obce-lesna-ulice-halasovo-namesti/1196461660 - New\n",
      "1;19  ;;;Ul Nejedlého, Brno - část obce Lesná  2+kk 54 m²3 990 000 Kč. https://www.sreality.cz/detail/prodej/byt/2+kk/brno-cast-obce-lesna-ulice-nejedleho/352497244 - New\n",
      "1;20  ;;;Ul Fillova, Brno - část obce Lesná  2+kk 110 m²3 733 000 Kč. https://www.sreality.cz/detail/prodej/byt/2+kk/brno-cast-obce-lesna-ulice-fillova/3605156188 - New\n",
      "Page 1 ... Done\n",
      "loading: https://www.sreality.cz/hledani/prodej/byty/jihomoravsky-kraj?region=m%C4%9Bstsk%C3%A1%20%C4%8D%C3%A1st%20Lesn%C3%A1&region-id=14643&region-typ=ward&strana=2\n",
      "Page offers:3\n",
      "2;0  ;;;Ul Domažlická, Brno - část obce Ponava  4+kk 94 m²5 990 000 Kč. https://www.sreality.cz/detail/prodej/byt/4+kk/brno-cast-obce-ponava-ulice-domazlicka/1267764828 - New\n",
      "2;1  ;;;Ul Fillova, Brno - část obce Lesná  3+kk 81 m²5 868 000 Kč. https://www.sreality.cz/detail/prodej/byt/3+kk/brno-cast-obce-lesna-ulice-fillova/484594012 - New\n",
      "2;2  ;;;Ul Brožíkova, Brno - část obce Lesná  4+kk 127 m²Info o ceně u RK. https://www.sreality.cz/detail/prodej/byt/4+kk/brno-cast-obce-lesna-ulice-brozikova/1785811292 - New\n",
      "Page 2 ... Done\n"
     ]
    }
   ],
   "source": [
    "#size /html/body/div[2]/div[1]/div[2]/div[2]/div[4]/div/div/div/div/div[3]/div/div[3]/div/div/span/h2/a/span\n",
    "#location /html/body/div[2]/div[1]/div[2]/div[2]/div[4]/div/div/div/div/div[3]/div/div[3]/div/div/span/span[1]\n",
    "#link: /html/body/div[2]/div[1]/div[2]/div[2]/div[4]/div/div/div/div/div[3]/div/div[4]/div/div/span/h2/a\n",
    "#price /html/body/div[2]/div[1]/dbiv[2]/div[2]/div[4]/div/div/div/div/div[3]/div/div[21]/div/div/span/span[2]/span\n",
    "\n",
    "#State - set initial value to 'old'\n",
    "flats.loc[:,'State'] = 'Old'\n",
    "\n",
    "#add offers to dataframe flats\n",
    "index = 0\n",
    "\n",
    "#for every page\n",
    "for page in range(1,pages+1):\n",
    "    \n",
    "    #load page\n",
    "    if page > 1:\n",
    "        URLNextPage = searchURL + \"&strana=\" + str(page)\n",
    "        print('loading: ' + URLNextPage)\n",
    "        driver.get(URLNextPage)\n",
    "    offers  = driver.find_elements_by_xpath(\"//div[4]/div/div/div/div/div[3]/div/div[*]\")\n",
    "    time.sleep(3)\n",
    "\n",
    "    #find number of offers on the page\n",
    "    #prange = driver.find_element_by_css_selector('p.info.ng-binding span.numero.ng-binding').text\n",
    "    #prange_split = prange.split('–')\n",
    "    #page_offers = int(prange_split[1]) - int(prange_split[0])\n",
    "    \n",
    "    page_offers = len(driver.find_elements_by_css_selector('div.property'))\n",
    "    \n",
    "    print(\"Page offers:\" + str(page_offers))\n",
    "    \n",
    "    #search through offers\n",
    "    for i in range(0,page_offers):\n",
    "        index = index+1\n",
    "        highlight(offers[i], np.random.randint(0,5))\n",
    "    \n",
    "        #text parsing\n",
    "        size = re.sub(\"bytu\",\"\",re.sub(\"Prodej\",\"\",offers[i].find_element_by_xpath(\"div/div/span/h2/a/span\").text))\n",
    "        location = re.sub(\"ulice\",\"Ul\",offers[i].find_element_by_xpath(\"div/div/span/span[1]\").text)\n",
    "        price = offers[i].find_element_by_xpath(\"div/div/span/span[2]/span\").text\n",
    "        link  = offers[i].find_element_by_xpath(\"div/div/span/h2/a\").get_attribute(\"href\")\n",
    "\n",
    "        print(str(page) + ';'+str(i)+'  ;;;' + ''.join((location,size, price)) +'. '+ link, end = '')\n",
    "        search = re.search(r'\\/(\\d{5,})\\s*$',link)\n",
    "        #continue only if search was successful\n",
    "        if search:\n",
    "            flatid = int(search.group(1))\n",
    "    \n",
    "            #add to flats\n",
    "            if flatid in flats.index:\n",
    "                flats.loc[flatid, 'State'] = 'Active'\n",
    "                print(\" - Active\")\n",
    "            else:\n",
    "                title = ''.join((location,size))\n",
    "                flats.loc[flatid] = [title , price, link, '--' , 'New', '']    \n",
    "                print(\" - New\")\n",
    "        else: \n",
    "            print(' - ERROR (NO INDEX)')\n",
    "    \n",
    "    print(\"Page \" + str(page) + \" ... Done\" )\n",
    "    \n",
    "\n"
   ]
  },
  {
   "cell_type": "code",
   "execution_count": 16,
   "metadata": {},
   "outputs": [
    {
     "data": {
      "text/plain": [
       "24"
      ]
     },
     "execution_count": 16,
     "metadata": {},
     "output_type": "execute_result"
    }
   ],
   "source": [
    "len(flats)"
   ]
  },
  {
   "cell_type": "code",
   "execution_count": 17,
   "metadata": {},
   "outputs": [
    {
     "name": "stdout",
     "output_type": "stream",
     "text": [
      "Title                                              Price             Link                                              \n",
      " Brno - část obce Lesná, okres Brno-město  2+1 ...      1 970 000 Kč  https://www.sreality.cz/detail/prodej/byt/2+1/...\n",
      " Ul Halasovo náměstí, Brno - část obce Lesná  1...      2 174 025 Kč  https://www.sreality.cz/detail/prodej/byt/1+1/...\n",
      " Ul Halasovo náměstí, Brno - část obce Lesná  1...      2 300 000 Kč  https://www.sreality.cz/detail/prodej/byt/1+kk...\n",
      "   Ul Dusíkova, Brno - část obce Lesná  1+kk 46 m²      2 600 000 Kč  https://www.sreality.cz/detail/prodej/byt/1+kk...\n",
      "       Ul Merhautova, Brno - Brno-sever  1+1 45 m²      2 660 000 Kč  https://www.sreality.cz/detail/prodej/byt/1+1/...\n",
      "    Ul Milénova, Brno - část obce Lesná  2+1 60 m²      2 900 000 Kč  https://www.sreality.cz/detail/prodej/byt/2+1/...\n",
      " Ul Jurkovičova, Brno - část obce Lesná  2+1 56 m²      3 049 000 Kč  https://www.sreality.cz/detail/prodej/byt/2+1/...\n",
      "    Ul Arbesova, Brno - část obce Lesná  2+1 56 m²      3 090 000 Kč  https://www.sreality.cz/detail/prodej/byt/2+1/...\n",
      "    Ul Šrámkova, Brno - část obce Lesná  2+1 55 m²      3 209 000 Kč  https://www.sreality.cz/detail/prodej/byt/2+1/...\n",
      " Brno - část obce Lesná, okres Brno-město  3+1 ...      3 300 000 Kč  https://www.sreality.cz/detail/prodej/byt/3+1/...\n",
      "   Ul Nejedlého, Brno - část obce Lesná  2+1 53 m²      3 400 000 Kč  https://www.sreality.cz/detail/prodej/byt/2+1/...\n",
      "     Ul Fillova, Brno - část obce Lesná  2+1 56 m²      3 400 000 Kč  https://www.sreality.cz/detail/prodej/byt/2+1/...\n",
      "  Ul Nejedlého, Brno - část obce Lesná  2+kk 51 m²      3 490 000 Kč  https://www.sreality.cz/detail/prodej/byt/2+kk...\n",
      "   Ul Nejedlého, Brno - část obce Lesná  3+1 64 m²      3 500 000 Kč  https://www.sreality.cz/detail/prodej/byt/3+1/...\n",
      "   Ul Fillova, Brno - část obce Lesná  2+kk 110 m²      3 733 000 Kč  https://www.sreality.cz/detail/prodej/byt/2+kk...\n",
      "  Ul Nejedlého, Brno - část obce Lesná  2+kk 54 m²      3 990 000 Kč  https://www.sreality.cz/detail/prodej/byt/2+kk...\n",
      "     Ul Fillova, Brno - část obce Lesná  3+1 90 m²      5 190 000 Kč  https://www.sreality.cz/detail/prodej/byt/3+1/...\n",
      "    Ul Fillova, Brno - část obce Lesná  3+kk 81 m²      5 868 000 Kč  https://www.sreality.cz/detail/prodej/byt/3+kk...\n",
      " Ul Domažlická, Brno - část obce Ponava  4+kk 9...      5 990 000 Kč  https://www.sreality.cz/detail/prodej/byt/4+kk...\n",
      " Ul Majdalenky, Brno - část obce Lesná  4+kk 12...      7 190 000 Kč  https://www.sreality.cz/detail/prodej/byt/4+kk...\n",
      " Ul Nejedlého, Brno - část obce Lesná  6 pokojů...      7 600 000 Kč  https://www.sreality.cz/detail/prodej/byt/6-a-...\n",
      " Ul Majdalenky, Brno - část obce Lesná  3+1 160 m²      8 500 000 Kč  https://www.sreality.cz/detail/prodej/byt/3+1/...\n",
      " Ul Majdalenky, Brno - část obce Lesná  6 pokoj...      9 069 000 Kč  https://www.sreality.cz/detail/prodej/byt/6-a-...\n",
      " Ul Brožíkova, Brno - část obce Lesná  4+kk 127 m²  Info o ceně u RK  https://www.sreality.cz/detail/prodej/byt/4+kk...\n"
     ]
    }
   ],
   "source": [
    "#pd.set_option('display.width', 150)\n",
    "#pd.set_option('display.expand_frame_repr', True)\n",
    "with pd.option_context('display.max_rows', None, 'display.max_columns', None):\n",
    "    print(flats.sort_values(by='Price', ascending=True).loc[:,'Title':'Link'].to_string(index=False, justify=\"left\"))\n",
    "\n"
   ]
  },
  {
   "cell_type": "code",
   "execution_count": 18,
   "metadata": {},
   "outputs": [],
   "source": [
    "filename = \"sreality_lesna\"+time.strftime('%Y-%m-%d',time.gmtime())+\".csv\"\n",
    "flats.to_csv(filename)"
   ]
  },
  {
   "cell_type": "markdown",
   "metadata": {},
   "source": [
    "## Check flats based on search criteria"
   ]
  },
  {
   "cell_type": "markdown",
   "metadata": {},
   "source": [
    "### **Bystrc**\n",
    "\n"
   ]
  },
  {
   "cell_type": "code",
   "execution_count": null,
   "metadata": {},
   "outputs": [],
   "source": [
    "flats_backup = flats\n",
    "\n",
    "pd.options.display.max_colwidth = 100\n",
    "\n",
    "c = flats['Title'].str.contains('bystrc', case=False,regex=False)\n",
    "bystrc=flats[c]\n",
    "\n",
    "bystrc.loc[:,('Title','Price','Link')]\n",
    "\n"
   ]
  },
  {
   "cell_type": "code",
   "execution_count": null,
   "metadata": {},
   "outputs": [],
   "source": [
    "flats.loc[1370992220, 'MyRate'] = '4'\n",
    "flats.loc[1370992220, 'Comment'] = 'Velky barak - prizemi, dal od Ecerove'\n",
    "flats.loc[1370992220]\n"
   ]
  },
  {
   "cell_type": "code",
   "execution_count": null,
   "metadata": {},
   "outputs": [],
   "source": [
    "flats.loc[2268180060, 'MyRate'] = '8'\n",
    "flats.loc[2268180060, 'Comment'] = '4p, bliz k mestu,ne velka cesta v okoli, PENB:B'\n",
    "flats.loc[2268180060]\n"
   ]
  },
  {
   "cell_type": "code",
   "execution_count": null,
   "metadata": {},
   "outputs": [],
   "source": [
    "flats.loc[1636408924, 'MyRate'] = '6'\n",
    "flats.loc[1636408924, 'Comment'] = '3p/7, PENB:G'\n",
    "flats.loc[1636408924]"
   ]
  },
  {
   "cell_type": "code",
   "execution_count": null,
   "metadata": {},
   "outputs": [],
   "source": [
    "flats.loc[2060893788, 'MyRate'] = '6'\n",
    "flats.loc[2060893788,'Comment'] = 'nadstavba 5p, vytah, drahe, mezonet (2patra), sklokeramika'\n",
    "flats.loc[2060893788]"
   ]
  },
  {
   "cell_type": "code",
   "execution_count": null,
   "metadata": {},
   "outputs": [],
   "source": [
    "flats.loc[3503472220, 'MyRate'] = '6'\n",
    "flats.loc[3503472220,'Comment'] = 'divne - nekde daleko pri prehrade, PENB -neuvadi se'\n",
    "flats.loc[3503472220]"
   ]
  }
 ],
 "metadata": {
  "kernelspec": {
   "display_name": "Python 3",
   "language": "python",
   "name": "python3"
  },
  "language_info": {
   "codemirror_mode": {
    "name": "ipython",
    "version": 3
   },
   "file_extension": ".py",
   "mimetype": "text/x-python",
   "name": "python",
   "nbconvert_exporter": "python",
   "pygments_lexer": "ipython3",
   "version": "3.6.7"
  }
 },
 "nbformat": 4,
 "nbformat_minor": 2
}
